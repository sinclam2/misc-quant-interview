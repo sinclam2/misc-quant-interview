{
 "cells": [
  {
   "cell_type": "markdown",
   "id": "d7e27149-8e68-4424-b2ed-39e31a5bc580",
   "metadata": {},
   "source": [
    "# Questions about Alpha"
   ]
  },
  {
   "cell_type": "markdown",
   "id": "d48aa40f-e331-42d7-9aae-738ad5aa3251",
   "metadata": {},
   "source": [
    "## *What is Alpha, and how is it related to Beta?*\n",
    "\n",
    "- **Recall**: when evaluating a stock, the Beta value describes the volatility of returns relative to the ovrall market\n",
    "    - E.g. a Beta value of 1.2 means when the market goes up 10%, the stock should go up 12%\n",
    "- Alpha is the **extra return** on top of the amount predicted by the Beta value\n",
    "    - E.g. for our stock with a Beta value of 1.2, if the market goes up 10% and the stock goes up 15%, that's 3% more than the Beta value predicted\n",
    "        - This extra 3% is (approximately) the alpha\n",
    "            - *Why approximately?*\n",
    "                - Because we don't account for the risk-free rate (i.e. assume it's zero)"
   ]
  },
  {
   "cell_type": "markdown",
   "id": "7c29a96b-f0dc-4a69-907e-3b5eb28eb2e6",
   "metadata": {},
   "source": [
    "## *How is Alpha calculated?*\n",
    "\n",
    "$$\n",
    "\\alpha = \\left ( \\text{Realized Return} \\right ) - \\left ( \\text{Expected Return} \\right )\n",
    "$$\n",
    "\n",
    "$$\n",
    "\\text{Expected Return} = \\left ( \\text{Risk-free Rate of Return} \\right ) + \\beta \\cdot \\left ( \\text{Market Risk Premium} \\right )\n",
    "$$\n",
    "\n",
    "$$\n",
    "\\text{Market Risk Premium} = \\left ( \\text{Market Rate of Return} \\right ) - \\left ( \\text{Risk-free Rate of Return} \\right )\n",
    "$$\n",
    "\n",
    "- We denote:\n",
    "    - $\\text{Realized Return}$ by $R_{Realized}$\n",
    "    - $\\text{Market Rate of Return}$ by $R_{Market}$\n",
    "    - $\\text{Risk-free Rate of Return}$ by $R_{Risk-free}$\n",
    "\n",
    "$$\n",
    "\\implies \\alpha = R_{Realized} - \\left [ R_{Risk-free} + \\beta \\cdot \\left ( R_{Market} - R_{Risk-free} \\right )  \\right ]\n",
    "$$  "
   ]
  },
  {
   "cell_type": "markdown",
   "id": "2cbc4816-1163-4fb0-9501-4381e747d292",
   "metadata": {},
   "source": [
    "- If we assume a risk-free rate of 5%, using our example above:\n",
    "\n",
    "$$\n",
    "\\alpha = 15\\% - \\left [ 5\\% + 1.2 \\cdot (10\\% - 5\\%) \\right] = 15\\% - \\left [5\\% + 1.2 \\cdot 5\\%  \\right ] = 15\\% - \\left [ 5\\% + 6\\% \\right ] = 15\\% - 11\\% = 4\\%\n",
    "$$"
   ]
  },
  {
   "cell_type": "markdown",
   "id": "c2e0dc7e-89e6-44d5-aeac-40511d72ba7b",
   "metadata": {},
   "source": [
    "## *Why is Alpha important?*\n",
    "\n",
    "- When analyzing our realized return, we want to split it into:\n",
    "    1. The baseline return from market risk\n",
    "        - This tells us what we got simply for being exposed to the market\n",
    "    2. The additional return from shrewd investment\n",
    "        - This tells us whether the manager made money from making smart decisions vs. riding the wave of the market\n",
    "      \n",
    "- Alpha allows us to evaluate whether a portfolio manager genuinely contributed value or merely benefited from favorable market conditions"
   ]
  }
 ],
 "metadata": {
  "kernelspec": {
   "display_name": "alpha",
   "language": "python",
   "name": "alpha"
  },
  "language_info": {
   "codemirror_mode": {
    "name": "ipython",
    "version": 3
   },
   "file_extension": ".py",
   "mimetype": "text/x-python",
   "name": "python",
   "nbconvert_exporter": "python",
   "pygments_lexer": "ipython3",
   "version": "3.12.7"
  }
 },
 "nbformat": 4,
 "nbformat_minor": 5
}
