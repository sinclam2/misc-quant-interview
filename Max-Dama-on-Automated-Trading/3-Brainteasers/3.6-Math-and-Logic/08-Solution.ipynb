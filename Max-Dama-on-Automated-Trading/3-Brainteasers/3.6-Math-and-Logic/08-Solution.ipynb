{
 "cells": [
  {
   "cell_type": "markdown",
   "metadata": {},
   "source": [
    "# We have two concentric circles. A chord of the larger circle is tangent to the smaller circle and has length 8. What's the area of the annulus - the region between the two circles?"
   ]
  },
  {
   "cell_type": "markdown",
   "metadata": {},
   "source": [
    "___\n",
    "# Solution\n",
    "\n",
    "- Let $R$ represent the radius of the larger circle, and $r$ represent the radius of the smaller circler. Then we know:\n",
    "\n",
    "# $(\\text{Area of Annulus}) = (\\text{Area of Larger Circle}) - (\\text{Area of Smaller Circle})$\n",
    "\n",
    "# $ = \\pi R^{2} - \\pi r^{2}$"
   ]
  },
  {
   "cell_type": "markdown",
   "metadata": {},
   "source": [
    "- Now, we can use some geometry to derive an expression for $R$ as a combination of $r$ and 8\n",
    "    - First, let's look at a diagram:\n",
    "    \n",
    "![](images/8-1.png)"
   ]
  },
  {
   "cell_type": "markdown",
   "metadata": {},
   "source": [
    "- What if we draw a line from the center of the circle one of the chord points?\n",
    "    - We know the line will have length $R$, but we also know the dimensions of its vector components\n",
    "    \n",
    "![](images/8-2.png)"
   ]
  },
  {
   "cell_type": "markdown",
   "metadata": {},
   "source": [
    "- So, using the Pythagorean theorem, we know:\n",
    "\n",
    "# $R = \\sqrt{r^{2}+4^{2}}$\n",
    "\n",
    "- Now, plugging this into the formula for the area of the annulus:\n",
    "\n",
    "# $ \\pi R^{2} - \\pi r^{2} = \\pi (r^{2}+4^{2}) - \\pi r^{2} = 16\\pi$\n",
    "\n",
    "## Therefore the area is $16\\pi$"
   ]
  }
 ],
 "metadata": {
  "kernelspec": {
   "display_name": "Python 2",
   "language": "python",
   "name": "python2"
  },
  "language_info": {
   "codemirror_mode": {
    "name": "ipython",
    "version": 2
   },
   "file_extension": ".py",
   "mimetype": "text/x-python",
   "name": "python",
   "nbconvert_exporter": "python",
   "pygments_lexer": "ipython2",
   "version": "2.7.11"
  }
 },
 "nbformat": 4,
 "nbformat_minor": 0
}
