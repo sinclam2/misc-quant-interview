{
 "cells": [
  {
   "cell_type": "markdown",
   "metadata": {},
   "source": [
    "# The hands on a clock cross each other at midnight\n",
    "\n",
    "# What time do they cross each other next?"
   ]
  },
  {
   "cell_type": "markdown",
   "metadata": {},
   "source": [
    "___\n",
    "- So if they cross at midnight, in the next 60 minutes:\n",
    "    - The minute hand will do one full rotation\n",
    "    - The hour hand will move to 1\n",
    "        - Therefore do 1/12th of a rotation\n",
    "    - **The hands do not cross in this time**\n",
    "        \n",
    "![](images/1-o-clock-md.png)"
   ]
  },
  {
   "cell_type": "markdown",
   "metadata": {},
   "source": [
    "- So now, the angle between the two hands is 30 degrees, or $\\frac{\\pi}{6}$\n",
    "\n",
    "- Since it takes one hour for the minute hand to make one rotation, we can express the rotation speed (per hour) as:\n",
    "\n",
    "# $r_{m} = 2\\pi$\n",
    "\n",
    "- And since it takes twelve hours for the hour hand:\n",
    "\n",
    "# $r_{h} = \\frac{\\pi}{6}$"
   ]
  },
  {
   "cell_type": "markdown",
   "metadata": {},
   "source": [
    "- So, the hands will cross athtime $t$ that satisfies the following:\n",
    "\n",
    "# $\\frac{\\pi}{6}+\\frac{\\pi}{6}t = 2\\pi t$\n",
    "\n",
    "- Solving for $t$, we get:\n",
    "\n",
    "$\\frac{\\pi}{6}= \\frac{12\\pi}{6} t - \\frac{\\pi}{6}t = \\frac{11\\pi}{6} t$\n",
    "\n",
    "$ t = \\frac{1}{11} $\n",
    "\n",
    "- So, the hands cross $\\frac{1}{11}$ hours after 1am\n",
    "\n",
    "- $\\frac{1}{11} \\text{hours} = \\frac{60}{11} \\text{minutes} = 5 \\text{minutes}, 27.272727 \\text{seconds}$\n",
    "\n",
    "# Therefore, the hands cross again at 1:05:27 am!"
   ]
  },
  {
   "cell_type": "markdown",
   "metadata": {},
   "source": [
    "![](images/35clock2.png)"
   ]
  }
 ],
 "metadata": {
  "kernelspec": {
   "display_name": "Python 2",
   "language": "python",
   "name": "python2"
  },
  "language_info": {
   "codemirror_mode": {
    "name": "ipython",
    "version": 2
   },
   "file_extension": ".py",
   "mimetype": "text/x-python",
   "name": "python",
   "nbconvert_exporter": "python",
   "pygments_lexer": "ipython2",
   "version": "2.7.11"
  }
 },
 "nbformat": 4,
 "nbformat_minor": 0
}
