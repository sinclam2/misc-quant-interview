{
 "cells": [
  {
   "cell_type": "markdown",
   "metadata": {},
   "source": [
    "# What is $\\sqrt{2+\\sqrt{2+\\sqrt{2+\\sqrt{2+\\sqrt{2+...}}}}}$?"
   ]
  },
  {
   "cell_type": "markdown",
   "metadata": {},
   "source": [
    "___\n",
    "# Solution\n",
    "\n",
    "- First, let \n",
    "\n",
    "# $x = \\sqrt{2+\\sqrt{2+\\sqrt{2+\\sqrt{2+\\sqrt{2+...}}}}}$\n",
    "\n",
    "- Then, we have:\n",
    "\n",
    "# $x = \\sqrt{2+x}$\n",
    "\n",
    "- Square both sides:\n",
    "\n",
    "# $x^{2} = 2+x$\n",
    "\n",
    "# $x^{2}-x-2 = 0$\n",
    "\n",
    "# $(x+1)(x-2) = 0$\n",
    "\n",
    "- So both 2 and -1 satisfy the condition $x^{2} = 2+x$, but only 2 satisfies the condition $x = \\sqrt{2+x}$\n",
    "\n",
    "# Therefore $\\sqrt{2+\\sqrt{2+\\sqrt{2+\\sqrt{2+\\sqrt{2+...}}}}} = 2$"
   ]
  },
  {
   "cell_type": "markdown",
   "metadata": {},
   "source": [
    "___\n",
    "### We can use a plot to show this convergence"
   ]
  },
  {
   "cell_type": "code",
   "execution_count": 1,
   "metadata": {
    "collapsed": true
   },
   "outputs": [],
   "source": [
    "import matplotlib.pyplot as plt\n",
    "%matplotlib inline"
   ]
  },
  {
   "cell_type": "code",
   "execution_count": 4,
   "metadata": {
    "collapsed": true
   },
   "outputs": [],
   "source": [
    "x = range(10)\n",
    "\n",
    "y = []\n",
    "y.append(2**0.5)\n",
    "\n",
    "for i in range(9):\n",
    "    val = (2+y[i])**0.5\n",
    "    y.append(val)"
   ]
  },
  {
   "cell_type": "code",
   "execution_count": 5,
   "metadata": {
    "collapsed": false
   },
   "outputs": [
    {
     "data": {
      "text/plain": [
       "[<matplotlib.lines.Line2D at 0xb016550>]"
      ]
     },
     "execution_count": 5,
     "metadata": {},
     "output_type": "execute_result"
    },
    {
     "data": {
      "image/png": "[encoded data removed]",
      "text/plain": [
       "<matplotlib.figure.Figure at 0xae04ba8>"
      ]
     },
     "metadata": {},
     "output_type": "display_data"
    }
   ],
   "source": [
    "plt.plot(x,y)"
   ]
  }
 ],
 "metadata": {
  "kernelspec": {
   "display_name": "Python 2",
   "language": "python",
   "name": "python2"
  },
  "language_info": {
   "codemirror_mode": {
    "name": "ipython",
    "version": 2
   },
   "file_extension": ".py",
   "mimetype": "text/x-python",
   "name": "python",
   "nbconvert_exporter": "python",
   "pygments_lexer": "ipython2",
   "version": "2.7.11"
  }
 },
 "nbformat": 4,
 "nbformat_minor": 0
}
