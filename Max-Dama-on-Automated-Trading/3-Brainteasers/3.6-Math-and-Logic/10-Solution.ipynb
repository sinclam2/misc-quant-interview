{
 "cells": [
  {
   "cell_type": "markdown",
   "metadata": {},
   "source": [
    "# Two trains are 30 km apart and are on track for a head-on collision. One train is going 20 km/h, and the other is going 40 km/h. If there is a bird flying back and forth between the fronts of the two trains at 10 km/h, what is the total distance the bird will travel before the trains collide?"
   ]
  },
  {
   "cell_type": "markdown",
   "metadata": {},
   "source": [
    "___\n",
    "# Solution 1 - Not using geometric series\n",
    "\n",
    "- **Note**: in the typical version of this question, the bird is flying faster than either of the trains\n",
    "    - In this version, let's assume the train passes the bird, and the question becomes **how far does the bird fly towards the point of collision before the two trains collide?**\n",
    "    \n",
    "    \n",
    "### Important first step\n",
    "\n",
    "- From the point of either train, it seems that the other train is approaching them at a relative speed of 40 km/h + 20 km/h = 60 km/h\n",
    "\n",
    "- Therefore, we can convert this problem from two trains approaching eachother to one train approaching a wall at 60 km/h\n",
    "\n",
    "**Note**: this simplies visualizing the problem. We can prove that this doesn't change the solution\n",
    "\n",
    "#### Proof\n",
    "\n",
    "$(\\text{Distance covered by the two trains}) = (\\text{Speed of train 1})\\cdot (\\text{Time to collision})+(\\text{Speed of train 2})\\cdot (\\text{Time to collision})$\n",
    "\n",
    "$(\\text{30 km}) = (\\text{20 km/h})\\cdot t + (\\text{40 km/h})\\cdot t = (\\text{60 km/h})\\cdot t = (\\text{Speed of one train going at the combined speed})\\cdot (\\text{Time to collision})$\n",
    "\n",
    "#### Solving for $t$\n",
    "\n",
    "$(\\text{30 km}) = (\\text{60 km/h})\\cdot t$\n",
    "\n",
    "$ t = 0.5$\n",
    "\n",
    "- So it takes 30 mins for the collision to take place\n",
    "\n",
    "### Now, we simply need to see how far the bird flies in 30 mins\n",
    "\n",
    "- $0.5h \\cdot 10 km/h = 5 km$\n",
    "\n",
    "## Therefore the total distance travelled by the bird is 5 km"
   ]
  },
  {
   "cell_type": "markdown",
   "metadata": {},
   "source": [
    "____\n",
    "# Solution 2 - Using geometric series\n",
    "\n",
    "- The standard version of this question is as follows:\n",
    "\n",
    "#### *Two bicyclists start 20 miles apart and head toward each other, each going at a steady rate of 10 mph. At the same time a fly that travels at a steady 15 mph starts from the front wheel of the southbound bicycle and flies to the front wheel of the northbound one, then turns around and flies to the front wheel of the southbound one again, and continues in this manner till he is crushed between the two front wheels. Question: what total distance did the fly cover?*"
   ]
  },
  {
   "cell_type": "markdown",
   "metadata": {},
   "source": [
    "- So where do we start? First, we can sketch out the situation\n",
    "\n",
    "![](images/10-1.png)"
   ]
  },
  {
   "cell_type": "markdown",
   "metadata": {},
   "source": [
    "- Now, we can calculate how far the fly travels before meeting the northbound cyclist\n",
    "    - We know that for them to meet, the sum of the distance traveled by the cyclist and the fly must equal the initial distance between them (**otherwise they wouldn't meet!**). So:\n",
    "    \n",
    "$(\\text{Distance Travelled by Fly}) + (\\text{Distance Travelled by Northbound cyclist}) = (\\text{Inital distance between them})$\n",
    "\n",
    "- For both the fly and the cyclist, the distance travelled is equal to their speed times the time elapsed, so:\n",
    "\n",
    "$ (\\text{Distance Travelled by Fly}) = (\\text{Speed of Fly})\\cdot t = 15\\cdot t$\n",
    "\n",
    "$ (\\text{Distance Travelled by Cyclist}) = (\\text{Speed of Cyclist})\\cdot t = 10 \\cdot t$\n",
    "\n",
    "- Putting it all together, we get:\n",
    "\n",
    "$15\\cdot t = 10\\cdot t = 20$\n",
    "\n",
    "$t = \\frac{20}{25} = 0.8$\n",
    "\n",
    "- So now, we can calculate the distance travelled by the fly as:\n",
    "\n",
    "$D_{1} = 15\\cdot 0.8 = 12$"
   ]
  },
  {
   "cell_type": "markdown",
   "metadata": {},
   "source": [
    "- Once the fly meets the Northbound cyclist and turns around, **what is the new distance between the two cyclists**?\n",
    "    - They've both been travelling for 0.8 hrs, so they've each travelled a distance of $10*0.8 = 8$\n",
    "    \n",
    "So the distance between the cyclists is now equal to:\n",
    "\n",
    "$20 - 2\\cdot8 = 20 - 16 = 4$\n",
    "\n",
    "- We now repeat the calculation above, but substituting in the new distance between:\n",
    "\n",
    "$15\\cdot t = 10\\cdot t = 4$\n",
    "\n",
    "$t = \\frac{4}{25} = 0.16$\n",
    "\n",
    "$D_{2} = 15\\cdot 0.16 = 2.4$"
   ]
  },
  {
   "cell_type": "markdown",
   "metadata": {},
   "source": [
    "- Let's do the calculations one more time and see if we can pick up a pattern\n",
    "\n",
    "- Once the fly meets the Southbound cyclist and turns around, the new distance between the cyclists is $4 - 2\\cdot10\\cdot0.16 = 0.8$\n",
    "    \n",
    "$15\\cdot t = 10\\cdot t = 0.8$\n",
    "\n",
    "$t = \\frac{0.8}{25} = 0.032$\n",
    "\n",
    "$D_{3} = 15\\cdot 0.032 = 0.48$"
   ]
  },
  {
   "cell_type": "markdown",
   "metadata": {},
   "source": [
    "### What do we notice?\n",
    "\n",
    "- First, we notice that at every step, the fly travels 60% of the total distance between itself and the cyclist\n",
    "    - E.g. the initial distance between the fly and the northbound cyclist is 20, and the fly travels 12 of it before meeting the northbound cyclist\n",
    "    - This makes sense, since the total distance travelled by the two is $15\\cdot t + 10 \\cdot t$, with the fly making up the $15 \\cdot t$ component\n",
    "        - $\\frac{15}{15+10} = \\frac{15}{25} = \\frac{3}{5} = 0.6$\n",
    "        \n",
    "- Second, we notice that the distance between the two cyclists at every step is 20, 4, 0.8, ...\n",
    "    - Dividing each by 20 gives: 1, 0.2, 0.04\n",
    "        - **This is equal to $0.2^{0}, 0.2^{1}, 0.2^{2}, ...$**"
   ]
  },
  {
   "cell_type": "markdown",
   "metadata": {},
   "source": [
    "### Therefore we can express the distance travelled by the fly as:\n",
    "\n",
    "# $(\\text{Distance travelled by the fly})=20\\cdot0.6\\cdot\\sum_{n=0}^{\\infty}0.2^{i}$\n",
    "\n",
    "- From the [geometric series](https://en.wikipedia.org/wiki/Geometric_series#Formula), we know:\n",
    "\n",
    "# $ 1 + r + r^{2}+... = \\frac{1}{1-r}$\n",
    "\n",
    "- So the distance becomes:\n",
    "\n",
    "# $(\\text{Distance travelled by the fly})=20\\cdot0.6 \\cdot \\frac{1}{1-0.2} = 12 \\cdot 1.25 = 15$"
   ]
  }
 ],
 "metadata": {
  "kernelspec": {
   "display_name": "Python 2",
   "language": "python",
   "name": "python2"
  },
  "language_info": {
   "codemirror_mode": {
    "name": "ipython",
    "version": 2
   },
   "file_extension": ".py",
   "mimetype": "text/x-python",
   "name": "python",
   "nbconvert_exporter": "python",
   "pygments_lexer": "ipython2",
   "version": "2.7.11"
  }
 },
 "nbformat": 4,
 "nbformat_minor": 0
}
