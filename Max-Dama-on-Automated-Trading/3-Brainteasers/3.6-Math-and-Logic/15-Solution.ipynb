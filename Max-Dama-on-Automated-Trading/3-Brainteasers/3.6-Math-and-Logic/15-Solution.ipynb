{
 "cells": [
  {
   "cell_type": "markdown",
   "metadata": {},
   "source": [
    "# The number of lilipads on a pond doubles each minute. There is 1 lilipad at $t=0$, 2 lilipads at $t=1$, 4 lilipads at $t=2$, etc. The pond is totally covered at $t=60$.\n",
    "\n",
    "# What proportion of the pond's surface is still visible at $t=58$?"
   ]
  },
  {
   "cell_type": "markdown",
   "metadata": {},
   "source": [
    "___\n",
    "### Simpler solution\n",
    "\n",
    "- We know the number of lilipads doubles each minute\n",
    "    - So if the pond is totally covered at $t=60$, **it'll be half covered at $t=59$**\n",
    "        - Then, it'll be **one quarter covered at $t=58$**\n",
    "        \n",
    "**Therefore, three quarters of the pond's surface will still be visible at $t=58$**"
   ]
  },
  {
   "cell_type": "markdown",
   "metadata": {},
   "source": [
    "___\n",
    "### Problem: what if they asked for $t=25$ instead of $t=58$\n",
    "#### Would we keep going backwards dividing by two until we get to 25?\n",
    "\n",
    "- We can use a more elegant solution"
   ]
  },
  {
   "cell_type": "markdown",
   "metadata": {},
   "source": [
    "___\n",
    "### Better solution\n",
    "\n",
    "- We know that there's one lilipad at time $t=0$, and it doubles every second\n",
    "    - Therefore, we can use the following function to represent the number of lilipads on the pond:\n",
    "    \n",
    "# $N_{lilipads}(t) = 2^{t}$\n",
    "\n",
    "- To double-check:\n",
    "    - $N_{lilipads}(0) = 2^{0} = 1$ (CORRECT)\n",
    "    - $N_{lilipads}(1) = 2^{1} = 2$ (CORRECT)\n",
    "    - $N_{lilipads}(2) = 2^{2} = 4$ (CORRECT)\n",
    "    \n",
    "- Then, we also know that the pond is completely covered at $t=60$\n",
    "    - The number of lilipads on the pond at time $t=60$ is equal to:\n",
    "    \n",
    "# $N_{lilipads}(60) = 2^{60}$\n",
    "\n",
    "- So if we want to represent the proportion of the pond that is covered by lilipads as a function of time $t$, we could use the function:\n",
    "\n",
    "# $P(t) = \\frac{N_{lilipads}(t)}{N_{lilipads}(60)} = \\frac{2^{t}}{2^{60}}$\n",
    "\n",
    "- Now, we use this function at $t=58$:\n",
    "\n",
    "# $P(58) = \\frac{2^{58}}{2^{60}} = \\frac{1}{2^{2}} = \\frac{1}{4}$\n",
    "\n",
    "- And since they asked for the proportion of the pond **not covered** by lilipads, we take one minus this answer to give:\n",
    "\n",
    "# $1-\\frac{1}{4} = \\frac{3}{4}$"
   ]
  },
  {
   "cell_type": "markdown",
   "metadata": {},
   "source": [
    "___\n",
    "# Generalized Solution\n",
    "\n",
    "- Instead of doubling every minute, the number of lilipads could triple every minute, or quadruple\n",
    "    - The rate of growth is arbirary\n",
    "    \n",
    "- Also, the pond could be totally covered at $t=100$, or $t=269$\n",
    "    - It doesn't matter\n",
    "    \n",
    "We can generalize our solution to solve this for any growth rate and any time\n",
    "\n",
    "# $P(t) = \\frac{g^{t}}{g^{T}}= \\frac{1}{g^{T-t}}$\n",
    "\n",
    "### where $g$ is the growth rate, and $T$ is the time where the pond is full"
   ]
  }
 ],
 "metadata": {
  "kernelspec": {
   "display_name": "Python 2",
   "language": "python",
   "name": "python2"
  },
  "language_info": {
   "codemirror_mode": {
    "name": "ipython",
    "version": 2
   },
   "file_extension": ".py",
   "mimetype": "text/x-python",
   "name": "python",
   "nbconvert_exporter": "python",
   "pygments_lexer": "ipython2",
   "version": "2.7.11"
  }
 },
 "nbformat": 4,
 "nbformat_minor": 0
}
