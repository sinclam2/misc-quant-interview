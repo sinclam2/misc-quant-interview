{
 "cells": [
  {
   "cell_type": "markdown",
   "metadata": {},
   "source": [
    "# How can a cheesecake be cut three times to get eight equal slices?"
   ]
  },
  {
   "cell_type": "markdown",
   "metadata": {},
   "source": [
    "## Solution 1: Assumes circular cheese cake\n",
    "\n",
    "- We all know that if you cut an 'X' into the cake, it'll make 4 equal slices\n",
    "\n",
    "![](images/cake-1.png)\n",
    "\n",
    "**But we can't make a straight cut across the cake to make 8 pieces**"
   ]
  },
  {
   "cell_type": "markdown",
   "metadata": {},
   "source": [
    "### What if we cut a curved line?\n",
    "\n",
    "- If we cut a circle inside the cake, it will create 8 pieces\n",
    "\n",
    "![](images/cake-2.png)\n",
    "\n",
    "### So how do we cut it so the slices are equal size?\n",
    "\n",
    "- Because of how the lines split the circle into equal quarters, we know they'll split both the inner circle and outer circle into equal chunks too\n",
    "    - So really, the question becomes: **how do we cut the cake so the area of the inner circle is equal to the area of the outer circle?**\n",
    "    \n",
    "- We know that the formula for the area of a circle is:\n",
    "\n",
    "# $A = \\pi r^{2}$\n",
    "\n",
    "- So, we can express the areas as:\n",
    "\n",
    "# $A_{inner} = \\pi r^{2}$ \n",
    "# and\n",
    "# $A_{outer} = \\pi R^{2} - A_{inner} = \\pi R^{2} - \\pi r^{2}$\n",
    "\n",
    "- where $R$ represents the radius of the whole cake, and $r$ represents the radius of the inner circle\n",
    "\n",
    "- So what we need to solve for is $r$ such that:\n",
    "\n",
    "# $ \\pi R^{2} - \\pi r^{2} = \\pi r^{2}$\n",
    "# $ \\pi R^{2} = 2\\pi r^{2}$\n",
    "# $ r = \\frac{R}{\\sqrt{2}}$\n",
    "\n",
    "# Therefore, the 3 cuts are:\n",
    "\n",
    "# 1. Straight vertical line\n",
    "# 2. Straight horizontal line\n",
    "# 3. Circle with a radius of $\\frac{R}{\\sqrt{2}}$"
   ]
  },
  {
   "cell_type": "markdown",
   "metadata": {},
   "source": [
    "___\n",
    "# Solution 2: Assumes a square cake\n",
    "\n",
    "- We can use all the same steps as the previous solution, except $A_{outer}$ is equal to:\n",
    "\n",
    "# $A_{outer} = l^{2} - A_{inner} = l^{2} - \\pi r^{2}$\n",
    "\n",
    "- Where $l$ represents the length of the side of the cake\n",
    "\n",
    "- Then we can solve for $r$ as:\n",
    "\n",
    "# $ l^{2} - \\pi r^{2} = \\pi r^{2}$\n",
    "# $ l^{2} = 2\\pi r^{2}$\n",
    "# $ r = \\frac{l}{\\sqrt{2\\pi}}$\n",
    "\n",
    "# Therefore, the 3 cuts are:\n",
    "\n",
    "# 1. Straight vertical line\n",
    "# 2. Straight horizontal line\n",
    "# 3. Circle with a radius of $\\frac{l}{\\sqrt{2\\pi}}$\n",
    "\n",
    "![](images/cake-3.png)"
   ]
  }
 ],
 "metadata": {
  "kernelspec": {
   "display_name": "Python 2",
   "language": "python",
   "name": "python2"
  },
  "language_info": {
   "codemirror_mode": {
    "name": "ipython",
    "version": 2
   },
   "file_extension": ".py",
   "mimetype": "text/x-python",
   "name": "python",
   "nbconvert_exporter": "python",
   "pygments_lexer": "ipython2",
   "version": "2.7.11"
  }
 },
 "nbformat": 4,
 "nbformat_minor": 0
}
