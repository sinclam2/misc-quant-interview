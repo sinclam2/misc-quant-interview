{
 "cells": [
  {
   "cell_type": "markdown",
   "metadata": {},
   "source": [
    "# $x^{x^{x^{x^{x^{...}}}}} = 2$. What is $x$?"
   ]
  },
  {
   "cell_type": "markdown",
   "metadata": {},
   "source": [
    "___\n",
    "## Solution 1: using $ln$\n",
    "\n",
    "- We know $ln(x^{y})=y\\cdot ln(x)$\n",
    "\n",
    "- Therefore:\n",
    "\n",
    "# $ln(x^{x^{x^{x^{x^{...}}}}}) = ln(2)$\n",
    "# $x^{x^{x^{x^{x^{...}}}}}\\cdot ln(x) = ln(2)$\n",
    "\n",
    "- But we know $x^{x^{x^{x^{x^{...}}}}} = 2$ so \n",
    "\n",
    "# $2\\cdot ln(x) = ln(2)$\n",
    "\n",
    "- We also know $e^{ln(x)} = x$ so\n",
    "\n",
    "# $e^{2\\cdot ln(x)} = e^{ln(2)}$\n",
    "# $(e^{ln(x)})^{2} = e^{ln(2)}$\n",
    "# $x^{2} = 2$\n",
    "# $x = \\sqrt{2}$"
   ]
  },
  {
   "cell_type": "markdown",
   "metadata": {},
   "source": [
    "___\n",
    "## Solution 2: using substitution\n",
    "\n",
    "- Let $y=x^{x^{x^{x^{x^{...}}}}}$\n",
    "    - Then we can make the two following conclusions:\n",
    "    \n",
    "### 1.  $y = 2$\n",
    "### 2.  $x^{x^{x^{x^{x^{...}}}}} = x^{y}$\n",
    "\n",
    "- Plugging 1 into 2, we get:\n",
    "\n",
    "### $2 = y = x^{y} = x^{2}$\n",
    "\n",
    "- So...\n",
    "\n",
    "### $2 = x^{2}$\n",
    "### $x = \\sqrt{2}$"
   ]
  },
  {
   "cell_type": "markdown",
   "metadata": {},
   "source": [
    "___\n",
    "### We can quickly show that this is true by plotting it"
   ]
  },
  {
   "cell_type": "code",
   "execution_count": 11,
   "metadata": {
    "collapsed": true
   },
   "outputs": [],
   "source": [
    "import matplotlib.pyplot as plt\n",
    "%matplotlib inline"
   ]
  },
  {
   "cell_type": "code",
   "execution_count": 16,
   "metadata": {
    "collapsed": false
   },
   "outputs": [],
   "source": [
    "x = range(10)\n",
    "y = []\n",
    "y.append(2**0.5)\n",
    "\n",
    "for i in range(1,10):\n",
    "    val = (2**0.5)**(y[i-1])\n",
    "    y.append(val)"
   ]
  },
  {
   "cell_type": "code",
   "execution_count": 17,
   "metadata": {
    "collapsed": false
   },
   "outputs": [
    {
     "data": {
      "text/plain": [
       "[<matplotlib.lines.Line2D at 0xcd0cf60>]"
      ]
     },
     "execution_count": 17,
     "metadata": {},
     "output_type": "execute_result"
    },
    {
     "data": {
      "image/png": "[encoded data removed]",
      "text/plain": [
       "<matplotlib.figure.Figure at 0xc228550>"
      ]
     },
     "metadata": {},
     "output_type": "display_data"
    }
   ],
   "source": [
    "plt.plot(x, y)"
   ]
  }
 ],
 "metadata": {
  "kernelspec": {
   "display_name": "Python 2",
   "language": "python",
   "name": "python2"
  },
  "language_info": {
   "codemirror_mode": {
    "name": "ipython",
    "version": 2
   },
   "file_extension": ".py",
   "mimetype": "text/x-python",
   "name": "python",
   "nbconvert_exporter": "python",
   "pygments_lexer": "ipython2",
   "version": "2.7.11"
  }
 },
 "nbformat": 4,
 "nbformat_minor": 0
}
