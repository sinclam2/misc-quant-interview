{
 "cells": [
  {
   "cell_type": "markdown",
   "metadata": {},
   "source": [
    "# A girl is swimming in the middle of a perfectly circular lake. A wolf is running at the edge of the lake waiting for the girl. The wolf is within a fence surrounding the lake, but it cannot get out of the fenced in area. The girl can climb over the fence. However, if the wolf is at the edge of the lake where the girl touches it, it will eat her. The wolf runs 2 times faster than the girl can swim. Assume the wolf always runs toward the closest point on the edge of the lake to where the girl is inside\n",
    "\n",
    "# Can the girl escape? If so, what path should she swim?\n",
    "\n",
    "![](images/wolf-and-girl-1.png)"
   ]
  },
  {
   "cell_type": "markdown",
   "metadata": {},
   "source": [
    "___\n",
    "# Solution\n",
    "- The first question to ask is: at what radius are the wolf and the girl moving at the same speed?\n",
    "    - This question translates to: **at what radius is the circumference for the girl equal to 1/2 the circumference for the wolf**?\n",
    "        - This is because the wolf can run twice as fast as the girl can swim\n",
    "    \n",
    "- Let $R$ represent the radius of the lake, and $r$ represent the distance the girl is from the center of the lake\n",
    "\n",
    "![](images/wolf-and-girl-2.png)\n",
    "\n",
    "- We know the circumference of a circle is equal to:\n",
    "\n",
    "# $C = 2\\pi r$\n",
    "\n",
    "- So, we can solve for the r that satisfies our condition as:\n",
    "\n",
    "# $\\frac{2\\pi R}{2} = 2\\pi r$\n",
    "# $r = \\frac{R}{2}$\n",
    "\n",
    "\n",
    "### This means that if the girl swims in a circle exactly halfway between the center of the lake and the shore, she will travel at the same (rotational) speed as the wolf\n",
    "\n",
    "### Furthermore, this means that if she's swimming in a circle less than halfway between the center and the shore, she'll travel FASTER than the wolf"
   ]
  },
  {
   "cell_type": "markdown",
   "metadata": {},
   "source": [
    "- So now, let's assume the girl swims out to a radius just shy of $\\frac{R}{2}$\n",
    "    - Let's call it $r = \\frac{R}{2}-\\epsilon$, where $\\epsilon$ is a tiny distance compared to $R$\n",
    "    \n",
    "- Let's call the girl's swimming speed $s$\n",
    "    - Then the wolf's running speed is $2s$\n",
    "    \n",
    "- Then, at the radius of $r = \\frac{R}{2}-\\epsilon$, the girl can swim in a circle of radius $2\\pi r = 2\\pi(\\frac{R}{2}-\\epsilon) = \\pi R - 2\\epsilon$ in time $t = \\frac{\\pi R}{s} - \\frac{2\\epsilon}{s}$\n",
    "    - Meanwhile, as the wolf follows her, it will take him $t=\\frac{2\\pi R}{2s} = \\frac{\\pi R}{s}$\n",
    "        - Notice this takes $2\\epsilon$ longer than the girl\n",
    "            - In other words **if the girl keeps swimming, she'll have a head start!**"
   ]
  },
  {
   "cell_type": "markdown",
   "metadata": {},
   "source": [
    "- Now, **let's assume neither the wolf nor the girl will run out of energy i.e. they can swim forever**\n",
    "    - We'll fix this assumption later\n",
    "    \n",
    "- The girl can continue to swim laps with the wolf trailing her by further and further every time until, at some point, they'll be on opposite sides of the center of the lake\n",
    "\n",
    "![](images/wolf-and-girl-3.png)"
   ]
  },
  {
   "cell_type": "markdown",
   "metadata": {},
   "source": [
    "- Now, the since the girl is swimming in a circle with radius $r = \\frac{R}{2}-\\epsilon$, we know her distance from the shore is $R - (\\frac{R}{2}-\\epsilon) = \\frac{R}{2} + \\epsilon$\n",
    "    - The time it will take her to swim to shore is equal to $\\frac{\\frac{R}{2} + \\epsilon}{s} = \\frac{R+2\\epsilon}{2s}$\n",
    "    \n",
    "- The wolf, on the other hand, has to run half the circumference of the lake\n",
    "    - The time it will take the wolf to do this is equal to $\\frac{\\pi R}{2s}$\n",
    "    \n",
    "### Therefore, the girl can swim to shore and climb the fence before the wolf arrives\n",
    "\n",
    "#### But what about the assumption about unlimited energy?\n",
    "\n",
    "- We can account for this assumption by swimming a different path\n",
    "    - Instead of swimming straight to a distance of $\\frac{R}{2}-\\epsilon$ from the center, then swimming circles, the girl can just **swim spirals outwards**\n",
    "        - She can control the speed so that the wolf is exactly on the other side of the lake once she reaches the $\\frac{R}{2}$ point, then start swimming directly to shore"
   ]
  }
 ],
 "metadata": {
  "kernelspec": {
   "display_name": "Python 2",
   "language": "python",
   "name": "python2"
  },
  "language_info": {
   "codemirror_mode": {
    "name": "ipython",
    "version": 2
   },
   "file_extension": ".py",
   "mimetype": "text/x-python",
   "name": "python",
   "nbconvert_exporter": "python",
   "pygments_lexer": "ipython2",
   "version": "2.7.11"
  }
 },
 "nbformat": 4,
 "nbformat_minor": 0
}
