{
 "cells": [
  {
   "cell_type": "markdown",
   "metadata": {},
   "source": [
    "- You have 3 pancakes in a stack\n",
    "    - 1 is burned on both sides\n",
    "    - 1 is burned on one side\n",
    "    - 1 isn't burned at all\n",
    "    \n",
    "- *What is $P(\\text{Burned on other side} | \\text{Not burned on top})$?*"
   ]
  },
  {
   "cell_type": "markdown",
   "metadata": {},
   "source": [
    "____\n",
    "\n",
    "- We know that:\n",
    "\n",
    "$$\n",
    "P(\\text{Burned on other side} | \\text{Not burned on top}) = \\frac{P(\\text{Burned on other side} \\cap \\text{Not burned on top})}{P(\\text{Not burned on top})}\n",
    "$$"
   ]
  },
  {
   "cell_type": "markdown",
   "metadata": {},
   "source": [
    "- Assuming that the pancake burned on only one side has a 50/50 chance of being burned on top, then\n",
    "\n",
    "$$\n",
    "P(\\text{Not burned on top}) = 1/3 + 1/2\\cdot1/3 = 1/2\n",
    "$$"
   ]
  },
  {
   "cell_type": "markdown",
   "metadata": {},
   "source": [
    "- Then, the probability of $\\text{Burned on other side} \\cap \\text{Not burned on top}$ is just the probability that the one-sided pancake is burned on top so $P(\\text{Burned on other side} \\cap \\text{Not burned on top}) = 1/6$"
   ]
  },
  {
   "cell_type": "markdown",
   "metadata": {},
   "source": [
    "- Therefore our probability is equal to $(1/6)/(1/2) = 1/3$"
   ]
  }
 ],
 "metadata": {
  "kernelspec": {
   "display_name": "Python 3",
   "language": "python",
   "name": "python3"
  },
  "language_info": {
   "codemirror_mode": {
    "name": "ipython",
    "version": 3
   },
   "file_extension": ".py",
   "mimetype": "text/x-python",
   "name": "python",
   "nbconvert_exporter": "python",
   "pygments_lexer": "ipython3",
   "version": "3.6.5"
  }
 },
 "nbformat": 4,
 "nbformat_minor": 2
}
