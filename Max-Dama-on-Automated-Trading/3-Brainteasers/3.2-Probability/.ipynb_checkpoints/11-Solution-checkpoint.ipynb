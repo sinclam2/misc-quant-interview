{
 "cells": [
  {
   "cell_type": "markdown",
   "metadata": {},
   "source": [
    "- You are trying to determine the price a casino should charge to play a dice game\n",
    "- The player rolls a die and gets paid the amount on the face\n",
    "- However, he can choose to re-roll the dice, giving up the chance to take the first amount before seeing the second result\n",
    "- Similarly, he has the same option on the second roll\n",
    "\n",
    "- **How much should the casino charge to break even in expectation on this game assuming the player chooses the best strategy?**"
   ]
  },
  {
   "cell_type": "markdown",
   "metadata": {},
   "source": [
    "____\n",
    "\n",
    "- This is the same question as [number 8](08-Solution.ipynb)\n",
    "    - The answer is 4.66"
   ]
  }
 ],
 "metadata": {
  "kernelspec": {
   "display_name": "Python 3",
   "language": "python",
   "name": "python3"
  },
  "language_info": {
   "codemirror_mode": {
    "name": "ipython",
    "version": 3
   },
   "file_extension": ".py",
   "mimetype": "text/x-python",
   "name": "python",
   "nbconvert_exporter": "python",
   "pygments_lexer": "ipython3",
   "version": "3.6.8"
  }
 },
 "nbformat": 4,
 "nbformat_minor": 2
}
