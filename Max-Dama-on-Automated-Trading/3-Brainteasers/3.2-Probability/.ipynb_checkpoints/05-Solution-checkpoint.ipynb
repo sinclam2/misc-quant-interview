{
 "cells": [
  {
   "cell_type": "markdown",
   "metadata": {},
   "source": [
    "- Assume there is a diagnotic druc for detecting a certain cancer\n",
    "- It is 99% sensitive and 99% specific\n",
    "- 0.5% of the population has this cancer\n",
    "- *What is the probability that a randomly selected person from the population has this cancer given that their test result comes back positive?*"
   ]
  },
  {
   "cell_type": "markdown",
   "metadata": {},
   "source": [
    "____\n",
    "\n",
    "- Since the test is 99% sensitive, it means that if we tested 100 people that do in fact have the cancer, the test would come back positive for 99 of them\n",
    "- Since the test is 99% specific, it means that the test results are accurate 99% of the time"
   ]
  },
  {
   "cell_type": "markdown",
   "metadata": {},
   "source": [
    "- So, we want to solve:\n",
    "\n",
    "$$\n",
    "P(\\text{Sick} | +) = \\frac{P(\\text{Sick} \\cap +)}{P(+)}\n",
    "$$"
   ]
  },
  {
   "cell_type": "markdown",
   "metadata": {},
   "source": [
    "- Let's separate these probabilities\n",
    "\n",
    "- First, $\\text{Sick} \\cap +$ means that someone is actually sick, and their test result came back positive\n",
    "    - The probability of being sick is 0.005, and the probability of the test result being accurate is 0.99 therefore:\n",
    "\n",
    "$$\n",
    "P(\\text{Sick} \\cap +) = 0.005 \\cdot 0.99 = 0.00495\n",
    "$$"
   ]
  },
  {
   "cell_type": "markdown",
   "metadata": {},
   "source": [
    "- $+$ simply means someone's test results came back positive\n",
    "    - There are two ways this can happen\n",
    "        1. Person actually is sick and gets a positive test result\n",
    "            - This is just $(\\text{Sick} | +)$ so it has probability $0.005\\cdot0.99$\n",
    "        2. Person isn't really sick, but they got a false positive test result\n",
    "            - Since 99.5% of the population isn't sick, and there's a 1% chance of the test getting the wrong diagnosis, then $P(\\text{NOT Sick} | +) = 0.995\\cdot0.01$\n",
    "\n",
    "- Combining these, we get $P(+) = 0.005\\cdot0.99 + 0.995\\cdot0.01 = 0.0149$"
   ]
  },
  {
   "cell_type": "markdown",
   "metadata": {},
   "source": [
    "- Therefore\n",
    "\n",
    "$$\n",
    "P(\\text{Sick}|+)  \\frac{0.00495}{0.0149} \\approx 1/3\n",
    "$$"
   ]
  },
  {
   "cell_type": "markdown",
   "metadata": {},
   "source": [
    "- So, if we get a positive test result, the likelihood that we're acutally sick is only 1/3"
   ]
  },
  {
   "cell_type": "markdown",
   "metadata": {},
   "source": [
    "- Let's simulate some tests to confirm our results"
   ]
  },
  {
   "cell_type": "code",
   "execution_count": 5,
   "metadata": {},
   "outputs": [],
   "source": [
    "import numpy as np"
   ]
  },
  {
   "cell_type": "code",
   "execution_count": 16,
   "metadata": {},
   "outputs": [],
   "source": [
    "N_PATIENTS = 10000000"
   ]
  },
  {
   "cell_type": "markdown",
   "metadata": {},
   "source": [
    "- With 10 million patients, we'd expect about 149k to get positive test results and only around 49.6k of that subset to actually be sick"
   ]
  },
  {
   "cell_type": "code",
   "execution_count": 18,
   "metadata": {},
   "outputs": [],
   "source": [
    "p = 0.005\n",
    "array_cancer = np.random.binomial(1, p, size=N_PATIENTS)"
   ]
  },
  {
   "cell_type": "code",
   "execution_count": 19,
   "metadata": {},
   "outputs": [],
   "source": [
    "array_correct_test_results = np.random.binomial(1, 0.99, size=N_PATIENTS)\n",
    "array_incorrect_test_results = 1 - array_correct_test_results"
   ]
  },
  {
   "cell_type": "code",
   "execution_count": 20,
   "metadata": {},
   "outputs": [],
   "source": [
    "array_results = array_cancer * array_correct_test_results + (1 - array_cancer) * array_incorrect_test_results"
   ]
  },
  {
   "cell_type": "code",
   "execution_count": 21,
   "metadata": {},
   "outputs": [
    {
     "data": {
      "text/plain": [
       "148846"
      ]
     },
     "execution_count": 21,
     "metadata": {},
     "output_type": "execute_result"
    }
   ],
   "source": [
    "np.sum(array_results)"
   ]
  },
  {
   "cell_type": "markdown",
   "metadata": {},
   "source": [
    "- So, we have 148.8k people with positive test results"
   ]
  },
  {
   "cell_type": "code",
   "execution_count": 22,
   "metadata": {},
   "outputs": [
    {
     "data": {
      "text/plain": [
       "49467"
      ]
     },
     "execution_count": 22,
     "metadata": {},
     "output_type": "execute_result"
    }
   ],
   "source": [
    "np.sum(array_results * array_cancer)"
   ]
  },
  {
   "cell_type": "markdown",
   "metadata": {},
   "source": [
    "- And about 49.46k actually have cancer\n",
    "    - So our simulated results are pretty close"
   ]
  },
  {
   "cell_type": "code",
   "execution_count": 23,
   "metadata": {},
   "outputs": [
    {
     "data": {
      "text/plain": [
       "0.3323367776090725"
      ]
     },
     "execution_count": 23,
     "metadata": {},
     "output_type": "execute_result"
    }
   ],
   "source": [
    "49467/148846"
   ]
  }
 ],
 "metadata": {
  "kernelspec": {
   "display_name": "Python 3",
   "language": "python",
   "name": "python3"
  },
  "language_info": {
   "codemirror_mode": {
    "name": "ipython",
    "version": 3
   },
   "file_extension": ".py",
   "mimetype": "text/x-python",
   "name": "python",
   "nbconvert_exporter": "python",
   "pygments_lexer": "ipython3",
   "version": "3.6.5"
  }
 },
 "nbformat": 4,
 "nbformat_minor": 2
}
