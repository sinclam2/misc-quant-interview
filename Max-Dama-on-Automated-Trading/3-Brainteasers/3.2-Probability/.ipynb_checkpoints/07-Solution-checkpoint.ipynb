{
 "cells": [
  {
   "cell_type": "markdown",
   "metadata": {},
   "source": [
    "a. Roll a die until the first 6\n",
    "- *What is the expected number of rolls?*\n",
    "    \n",
    "b. *What is the expected number of rolls until two sixes in a row?*\n",
    "\n",
    "c. *How about a six then a five? Are they different?*    "
   ]
  },
  {
   "cell_type": "markdown",
   "metadata": {},
   "source": [
    "____"
   ]
  },
  {
   "cell_type": "markdown",
   "metadata": {},
   "source": [
    "# a. \n",
    "\n",
    "- This question isn't nearly as hard as the other\n",
    "\n",
    "- The first observation we make is that this question involves **the gambler's fallacy**\n",
    "    - Recall that if we flip a coin and get heads, it doesn't mean we're more likely to get a tails on the next flip\n",
    "        - Similarly, **rolling some number that isn't a six doesn't make us more likely to roll a six on the next roll**\n",
    "        \n",
    "- Therefore, if we denote $E(\\text{Rolls required to get a six}) = a$, the expected number of rolls can be described as:\n",
    "\n",
    "$$\n",
    "E(\\text{Rolls required to get a six}) = a = (1)\\left ( \\text{Probability of getting a six on our first roll} \\right ) + (1+a)\\left ( \\text{Probability of NOT getting a six on our first roll}\\right )\n",
    "$$"
   ]
  },
  {
   "cell_type": "markdown",
   "metadata": {},
   "source": [
    "$$\n",
    "\\implies a = (1)(1/6) + (1+a)(5/6)\n",
    "$$"
   ]
  },
  {
   "cell_type": "markdown",
   "metadata": {},
   "source": [
    "- To recap the formula above, if we're about to roll our first roll, there are two things that can happen:\n",
    "    1. We roll a six on our first roll\n",
    "        - There is a 1/6 chance of this happening\n",
    "    2. We roll some number that isn't a six\n",
    "        - There is a 5/6 chance of this happening\n",
    "        \n",
    "- The contribution of case 1 to the expected number of rolls is $(1)(1/6)$\n",
    "        \n",
    "- In case 2, we basically start from scratch and we expect it to take another $a$ rolls to get our first six\n",
    "    - But since we've already rolled the die once, our total number of expected rolls is $1+a$ so the contribution of case 2 to the expected number of rolls is $(1+a)(5/6)$"
   ]
  },
  {
   "cell_type": "markdown",
   "metadata": {},
   "source": [
    "- We can solve for $a$:\n",
    "\n",
    "$$\n",
    "a = 1/6 + (5/6) + (5/6)a \\implies (1/6)a = 1 \\implies a = 6\n",
    "$$"
   ]
  },
  {
   "cell_type": "markdown",
   "metadata": {},
   "source": [
    "- Therefore, **we expect it to take 6 rolls to get our first six**"
   ]
  },
  {
   "cell_type": "markdown",
   "metadata": {},
   "source": [
    "_____\n",
    "\n",
    "# b. \n",
    "\n",
    "**Two sixes in a row**"
   ]
  },
  {
   "cell_type": "markdown",
   "metadata": {},
   "source": [
    "- Let's try to use the same logic as above"
   ]
  },
  {
   "cell_type": "markdown",
   "metadata": {},
   "source": [
    "- We let $E\\left (\\text{Rolls required to get back-to-back sixes} \\right ) = a$\n",
    "    - It is still true that if we don't roll a six on our first roll, the expected total number of rolls required to get back-to-back sixes is still $(1+a)$\n",
    "    \n",
    "- But, for this version of the question, if we roll a six on our first roll is hasn't satisfied the condition\n",
    "    - It does, however, make it more likely that we'll roll back-to-back sixes\n",
    "        - *But isn't this the gambler's fallacy?*\n",
    "            - **No**\n",
    "            - It doesn't mean that you're more likely to get a six on your next roll\n",
    "                - It just means that if you do, you'll already have two in a row\n",
    "                \n",
    "- Let $b$ represent the number of expected additional rolls required to get back-to-back sixes given that we just rolled a six\n",
    "\n",
    "- Then, the new version of our formula becomes:\n",
    "\n",
    "$$\n",
    "a = (5/6)(1+a) + (1/6)(1+b) \\implies a = 6+b\n",
    "$$"
   ]
  },
  {
   "cell_type": "markdown",
   "metadata": {},
   "source": [
    "- We can't solve this yet, so let's think about what $b$ is equal to\n",
    "\n",
    "- If we just rolled our first six, then we have a 1/6 chance of rolling a second six, and a 5/6 chance of rolling some other number\n",
    "    - If we roll some other number, then we're back to square one\n",
    "        - And from this point on, we expect it to take $a$ rolls before we get double sixes\n",
    "        \n",
    "- Therefore:\n",
    "\n",
    "$$\n",
    "b = (1)(1/6) + (5/6)(1+a)\n",
    "$$\n",
    "\n",
    "- We can plug this into our other equation:\n",
    "\n",
    "$$\n",
    "a = 6 + \\frac{1}{6} + \\frac{5}{6} (1+a) \\implies \\frac{a}{6} = 7 \\implies a = 42\n",
    "$$"
   ]
  },
  {
   "cell_type": "markdown",
   "metadata": {},
   "source": [
    "- Therefore, we expect it to take 42 rolls to get back to back sixes"
   ]
  },
  {
   "cell_type": "markdown",
   "metadata": {},
   "source": [
    "____\n",
    "\n",
    "# c. \n",
    "\n",
    "**A six then a five**\n",
    "\n",
    "- We can simply format the thinking above\n",
    "\n",
    "- Let's say it takes $a$ rolls on average to get a six then a five, and if we just rolled a six, it takes $b$ additional rolls to get a six then a five\n",
    "\n",
    "- Then, like above, we get $a=42$\n",
    "    - **So no, they're not different**"
   ]
  },
  {
   "cell_type": "markdown",
   "metadata": {},
   "source": [
    "____\n",
    "\n",
    "- Let's try to confirm these results by simulation"
   ]
  },
  {
   "cell_type": "code",
   "execution_count": 7,
   "metadata": {},
   "outputs": [],
   "source": [
    "import numpy as np\n",
    "from scipy.ndimage.interpolation import shift"
   ]
  },
  {
   "cell_type": "markdown",
   "metadata": {},
   "source": [
    "**a**"
   ]
  },
  {
   "cell_type": "code",
   "execution_count": 44,
   "metadata": {},
   "outputs": [],
   "source": [
    "def sim_a():\n",
    "    count = 0\n",
    "    while True:\n",
    "        roll = np.random.randint(1, 7)\n",
    "        count += 1\n",
    "        if roll == 6:\n",
    "            return count"
   ]
  },
  {
   "cell_type": "code",
   "execution_count": 46,
   "metadata": {},
   "outputs": [
    {
     "data": {
      "text/plain": [
       "6.005874"
      ]
     },
     "execution_count": 46,
     "metadata": {},
     "output_type": "execute_result"
    }
   ],
   "source": [
    "N_trials = 1000000\n",
    "\n",
    "total = 0\n",
    "for _ in range(N_trials):\n",
    "    total += sim_a()\n",
    "    \n",
    "total / N_trials"
   ]
  },
  {
   "cell_type": "markdown",
   "metadata": {},
   "source": [
    "- Bang on"
   ]
  },
  {
   "cell_type": "markdown",
   "metadata": {},
   "source": [
    "_____\n",
    "\n",
    "**b**"
   ]
  },
  {
   "cell_type": "code",
   "execution_count": 47,
   "metadata": {},
   "outputs": [],
   "source": [
    "def sim_b():\n",
    "    count = 0\n",
    "    while True:\n",
    "        roll = np.random.randint(1, 7)\n",
    "        count += 1\n",
    "        if roll == 6:\n",
    "            roll_2 = np.random.randint(1, 7)\n",
    "            count += 1\n",
    "            if roll_2 == 6:\n",
    "                return count"
   ]
  },
  {
   "cell_type": "code",
   "execution_count": 48,
   "metadata": {},
   "outputs": [
    {
     "data": {
      "text/plain": [
       "42.084936"
      ]
     },
     "execution_count": 48,
     "metadata": {},
     "output_type": "execute_result"
    }
   ],
   "source": [
    "total = 0\n",
    "for _ in range(N_trials):\n",
    "    total += sim_b()\n",
    "    \n",
    "total / N_trials"
   ]
  },
  {
   "cell_type": "markdown",
   "metadata": {},
   "source": [
    "- Bang on"
   ]
  },
  {
   "cell_type": "markdown",
   "metadata": {},
   "source": [
    "___\n",
    "\n",
    "**c**"
   ]
  },
  {
   "cell_type": "code",
   "execution_count": 49,
   "metadata": {},
   "outputs": [],
   "source": [
    "def sim_c():\n",
    "    count = 0\n",
    "    while True:\n",
    "        roll = np.random.randint(1, 7)\n",
    "        count += 1\n",
    "        if roll == 6:\n",
    "            roll_2 = np.random.randint(1, 7)\n",
    "            count += 1\n",
    "            if roll_2 == 5:\n",
    "                return count"
   ]
  },
  {
   "cell_type": "code",
   "execution_count": 50,
   "metadata": {},
   "outputs": [
    {
     "data": {
      "text/plain": [
       "41.923393"
      ]
     },
     "execution_count": 50,
     "metadata": {},
     "output_type": "execute_result"
    }
   ],
   "source": [
    "total = 0\n",
    "for _ in range(N_trials):\n",
    "    total += sim_c()\n",
    "    \n",
    "total / N_trials"
   ]
  },
  {
   "cell_type": "markdown",
   "metadata": {},
   "source": [
    "- Bang on"
   ]
  }
 ],
 "metadata": {
  "kernelspec": {
   "display_name": "Python 3",
   "language": "python",
   "name": "python3"
  },
  "language_info": {
   "codemirror_mode": {
    "name": "ipython",
    "version": 3
   },
   "file_extension": ".py",
   "mimetype": "text/x-python",
   "name": "python",
   "nbconvert_exporter": "python",
   "pygments_lexer": "ipython3",
   "version": "3.6.5"
  }
 },
 "nbformat": 4,
 "nbformat_minor": 2
}
