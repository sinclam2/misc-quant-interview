{
 "cells": [
  {
   "cell_type": "markdown",
   "metadata": {},
   "source": [
    "- Let's say your'e playing a two player game where you take turns flipping a coin and whoever flips heads first wins\n",
    "\n",
    "- **If the winner gets one dollar, how much would you pay to go first instead of second?**"
   ]
  },
  {
   "cell_type": "markdown",
   "metadata": {},
   "source": [
    "_____ \n",
    "\n",
    "- To solve for the fair amount to pay, we need to solve for the probability of winning if we go first"
   ]
  },
  {
   "cell_type": "markdown",
   "metadata": {},
   "source": [
    "- Let's denote this probability $p$\n",
    "\n",
    "- By considering the gambler's fallacy, we know that a coin flip is not affected by any previous flips\n",
    "    - For example, if I get 100 heads in a row, it doesn't mean I'm less likely to get one on my next flip\n",
    "- With this in mind, we can think of winning in the following way\n",
    "    - We win on the first flip\n",
    "    - We don't win on the first flip, but they don't win either\n",
    "        - Therefore, we effectively restart the game"
   ]
  },
  {
   "cell_type": "markdown",
   "metadata": {},
   "source": [
    "- With this information, we can calculate the value of $p$ as:\n",
    "\n",
    "$$\n",
    "p = P(\\text{H on first flip}) + P(\\text{T on first flip})\\cdot P(\\text{They get T on their first flip})\\cdot p\n",
    "$$"
   ]
  },
  {
   "cell_type": "markdown",
   "metadata": {},
   "source": [
    "$$\n",
    "= 1/2 + (1/2)(1/2)p \\implies 3/4\\cdot p = 1/2\n",
    "$$"
   ]
  },
  {
   "cell_type": "markdown",
   "metadata": {},
   "source": [
    "$$\n",
    "\\implies p = 2/3\n",
    "$$"
   ]
  },
  {
   "cell_type": "markdown",
   "metadata": {},
   "source": [
    "- Therefore, the probability of winning when we go first is 2/3, and **the fair price to pay is 67 cents**"
   ]
  },
  {
   "cell_type": "markdown",
   "metadata": {},
   "source": [
    "______\n",
    "\n",
    "- Let's run a quick simulation to confirm that we expect to win 2/3 of the time"
   ]
  },
  {
   "cell_type": "code",
   "execution_count": 1,
   "metadata": {},
   "outputs": [],
   "source": [
    "import numpy as np"
   ]
  },
  {
   "cell_type": "code",
   "execution_count": 5,
   "metadata": {},
   "outputs": [],
   "source": [
    "def trial():\n",
    "    while True:\n",
    "        our_flip, their_flip = np.random.randint(2, size=2)\n",
    "        if our_flip == 1:\n",
    "            return 1\n",
    "        if their_flip == 1:\n",
    "            return 0"
   ]
  },
  {
   "cell_type": "code",
   "execution_count": 7,
   "metadata": {},
   "outputs": [
    {
     "data": {
      "text/plain": [
       "0.66646"
      ]
     },
     "execution_count": 7,
     "metadata": {},
     "output_type": "execute_result"
    }
   ],
   "source": [
    "n_trials = 100000\n",
    "list_results = []\n",
    "\n",
    "for _ in range(n_trials):\n",
    "    list_results.append(trial())\n",
    "np.mean(list_results)"
   ]
  },
  {
   "cell_type": "markdown",
   "metadata": {},
   "source": [
    "- Eyyyyy"
   ]
  }
 ],
 "metadata": {
  "kernelspec": {
   "display_name": "Python 3",
   "language": "python",
   "name": "python3"
  },
  "language_info": {
   "codemirror_mode": {
    "name": "ipython",
    "version": 3
   },
   "file_extension": ".py",
   "mimetype": "text/x-python",
   "name": "python",
   "nbconvert_exporter": "python",
   "pygments_lexer": "ipython3",
   "version": "3.6.8"
  }
 },
 "nbformat": 4,
 "nbformat_minor": 2
}
