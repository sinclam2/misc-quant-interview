{
 "cells": [
  {
   "cell_type": "markdown",
   "metadata": {},
   "source": [
    "- Two fair coins are flipped behind a curtain\n",
    "- You are told at least one came up heads\n",
    "- **Given that information and nothing else, what is the probability that both landed heads?**"
   ]
  },
  {
   "cell_type": "markdown",
   "metadata": {},
   "source": [
    "____\n"
   ]
  },
  {
   "cell_type": "markdown",
   "metadata": {},
   "source": [
    "- We consider the different flips given that at least one is heads:\n",
    "    1. $HT \\rightarrow P(HT) = 1/4$\n",
    "    2. $TH \\rightarrow P(TH) = 1/4$\n",
    "    3. $HH \\rightarrow P(HH)= 1/4$"
   ]
  },
  {
   "cell_type": "markdown",
   "metadata": {},
   "source": [
    "- Therefore, the probability that they're both heads is equal to:\n",
    "\n",
    "$$\n",
    "P(HH) = \\frac{P(HH)}{P(HT) + P(TH) + P(HH)} = \\frac{1/4}{3/4} = 1/3\n",
    "$$"
   ]
  },
  {
   "cell_type": "markdown",
   "metadata": {},
   "source": [
    "_____\n",
    "\n",
    "- Let's confirm this probability by simulating it"
   ]
  },
  {
   "cell_type": "code",
   "execution_count": 1,
   "metadata": {},
   "outputs": [],
   "source": [
    "import pandas as pd\n",
    "import numpy as np"
   ]
  },
  {
   "cell_type": "code",
   "execution_count": 9,
   "metadata": {},
   "outputs": [
    {
     "data": {
      "text/plain": [
       "0.33536536456244487"
      ]
     },
     "execution_count": 9,
     "metadata": {},
     "output_type": "execute_result"
    }
   ],
   "source": [
    "n_trials = 100000\n",
    "\n",
    "random_array = np.random.randint(2, size=(n_trials, 2))\n",
    "df = pd.DataFrame(random_array)\n",
    "df = df[df.sum(axis=1)>0]\n",
    "(df.sum(axis=1)==2).mean()"
   ]
  },
  {
   "cell_type": "markdown",
   "metadata": {},
   "source": [
    "- Eyyyyyy"
   ]
  }
 ],
 "metadata": {
  "kernelspec": {
   "display_name": "Python 3",
   "language": "python",
   "name": "python3"
  },
  "language_info": {
   "codemirror_mode": {
    "name": "ipython",
    "version": 3
   },
   "file_extension": ".py",
   "mimetype": "text/x-python",
   "name": "python",
   "nbconvert_exporter": "python",
   "pygments_lexer": "ipython3",
   "version": "3.6.8"
  }
 },
 "nbformat": 4,
 "nbformat_minor": 2
}
