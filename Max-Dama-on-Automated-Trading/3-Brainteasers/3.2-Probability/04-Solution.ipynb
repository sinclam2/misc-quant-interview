{
 "cells": [
  {
   "cell_type": "markdown",
   "metadata": {},
   "source": [
    "- Normal 52 card deck\n",
    "- Cards are dealt one by one\n",
    "- You get to say when to stop\n",
    "- After you say stop, you win a dollar if the next card is red, and lose a dollar if the next card is black\n",
    "- *Assuming you use an optimal stopping strategy, how much would you be willing to pay to play?*\n",
    "    - Support your answer"
   ]
  },
  {
   "cell_type": "markdown",
   "metadata": {},
   "source": [
    "_____\n",
    "\n",
    "- Our intuition tells us that there is no optimal stopping strategy\n",
    "    - The probability of getting red on any card is the same\n",
    "    \n",
    "- This is similar to the problem *if you deal 5 cards, what is the probability of the 5th card being a king?* The answer is 4/52, and it's true if you replace 5 with any number between 1 and 52"
   ]
  },
  {
   "cell_type": "markdown",
   "metadata": {},
   "source": [
    "- Let's show that this is true\n",
    "\n",
    "**Stopping after card 0**\n",
    "\n",
    "- This means that we're hoping that the first card dealt is a red\n",
    "    - The probability of this happening is $26/52 = 1/2$"
   ]
  },
  {
   "cell_type": "markdown",
   "metadata": {},
   "source": [
    "**Stopping after card 1**\n",
    "\n",
    "- This means that we're hoping that the second card dealt is a red\n",
    "    - There are two ways this can happen\n",
    "        1. The first card is a red and the second card is also a red\n",
    "            - $P(RR) = \\frac{26}{52}\\frac{25}{51}$\n",
    "        2. The first card is a black, and the second card is a red\n",
    "            - $P(BR) = \\frac{26}{52}\\frac{26}{51}$\n",
    "            \n",
    "- Therefore, the overall probability is equal to:\n",
    "\n",
    "$$\n",
    "P(RR \\cup BR) = \\frac{26}{52}\\left (\\frac{25}{51} + \\frac{26}{51} \\right ) = \\frac{26}{52}(1) = 1/2\n",
    "$$"
   ]
  },
  {
   "cell_type": "markdown",
   "metadata": {},
   "source": [
    "**Stopping after card 2**\n",
    "\n",
    "- The ways we can win are:\n",
    "    1. RRR\n",
    "        - $P(RRR) = \\frac{26\\cdot25\\cdot24}{52\\cdot51\\cdot50}$\n",
    "    2. BRR\n",
    "        - $P(BRR) = \\frac{26\\cdot26\\cdot25}{52\\cdot51\\cdot50}$\n",
    "    3. RBR\n",
    "        - $P(RBR) = \\frac{26\\cdot26\\cdot25}{52\\cdot51\\cdot50}$\n",
    "    4. BBR\n",
    "        - $P(BBR) = \\frac{26\\cdot25\\cdot26}{52\\cdot51\\cdot50}$"
   ]
  },
  {
   "cell_type": "markdown",
   "metadata": {},
   "source": [
    "- Therefore:\n",
    "\n",
    "$$\n",
    "P(RRR \\cup BRR \\cup BBR) = \\frac{26\\cdot25\\cdot24}{52\\cdot51\\cdot50} + \\frac{26\\cdot26\\cdot25}{52\\cdot51\\cdot50} + \\frac{26\\cdot26\\cdot25}{52\\cdot51\\cdot50} + \\frac{26\\cdot26\\cdot25}{52\\cdot51\\cdot50}\n",
    "$$"
   ]
  },
  {
   "cell_type": "markdown",
   "metadata": {},
   "source": [
    "$$\n",
    "= \\frac{26\\cdot25}{52\\cdot51\\cdot50} \\left (24 + 26 + 26 + 26 \\right ) = \\frac{1}{204}\\cdot102 = 1/2\n",
    "$$"
   ]
  },
  {
   "cell_type": "markdown",
   "metadata": {},
   "source": [
    "- We can continue this process, but we can see that they're all the same"
   ]
  },
  {
   "cell_type": "markdown",
   "metadata": {},
   "source": [
    "- Since we have a 50/50 chance of winning, the expected payoff is zero\n",
    "    - Therefore, a rational person would pay nothing to play"
   ]
  }
 ],
 "metadata": {
  "kernelspec": {
   "display_name": "Python 3",
   "language": "python",
   "name": "python3"
  },
  "language_info": {
   "codemirror_mode": {
    "name": "ipython",
    "version": 3
   },
   "file_extension": ".py",
   "mimetype": "text/x-python",
   "name": "python",
   "nbconvert_exporter": "python",
   "pygments_lexer": "ipython3",
   "version": "3.6.5"
  }
 },
 "nbformat": 4,
 "nbformat_minor": 2
}
