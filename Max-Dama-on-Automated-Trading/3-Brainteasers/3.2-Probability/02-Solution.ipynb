{
 "cells": [
  {
   "cell_type": "markdown",
   "metadata": {},
   "source": [
    "- Play a game like chess or ping pong\n",
    "- You only have two opponents: A and B\n",
    "    - A is better than B\n",
    "- You will play 3 games\n",
    "- There are two orders you can play:\n",
    "    1. ABA\n",
    "    2. BAB\n",
    "- *Which order gives you a better chance of winning?*"
   ]
  },
  {
   "cell_type": "markdown",
   "metadata": {},
   "source": [
    "_____\n",
    "\n",
    "- This is a similar question to [problem 2 from *50 Challenging Problems in Probability*](https://github.com/sinclam2/fifty-challenging-problems-in-probability/blob/master/02-Solution.ipynb)"
   ]
  },
  {
   "cell_type": "markdown",
   "metadata": {},
   "source": [
    "- Let $p_{A}$ and $p_{B}$ be the probability of beating player A and B respectively\n",
    "    - We know that $p_{A} < p_{B}$"
   ]
  },
  {
   "cell_type": "markdown",
   "metadata": {},
   "source": [
    "- Now, we calculate the probability of winning in each ordering"
   ]
  },
  {
   "cell_type": "markdown",
   "metadata": {},
   "source": [
    "**ABA**\n",
    "\n",
    "$$\n",
    "P(\\text{Winning | }ABA) = p_{A}p_{B}p_{A} = p_{A} (p_{A}p_{B})\n",
    "$$"
   ]
  },
  {
   "cell_type": "markdown",
   "metadata": {},
   "source": [
    "**BAB**\n",
    "\n",
    "$$\n",
    "P(\\text{Winning | }BAB) = p_{B}p_{A}p_{B} = p_{B} (p_{A}p_{B})\n",
    "$$"
   ]
  },
  {
   "cell_type": "markdown",
   "metadata": {},
   "source": [
    "- Since $p_{A} < p_{B}$ we know that we have the higher probability of winning from BAB"
   ]
  }
 ],
 "metadata": {
  "kernelspec": {
   "display_name": "Python 3",
   "language": "python",
   "name": "python3"
  },
  "language_info": {
   "codemirror_mode": {
    "name": "ipython",
    "version": 3
   },
   "file_extension": ".py",
   "mimetype": "text/x-python",
   "name": "python",
   "nbconvert_exporter": "python",
   "pygments_lexer": "ipython3",
   "version": "3.6.5"
  }
 },
 "nbformat": 4,
 "nbformat_minor": 2
}
