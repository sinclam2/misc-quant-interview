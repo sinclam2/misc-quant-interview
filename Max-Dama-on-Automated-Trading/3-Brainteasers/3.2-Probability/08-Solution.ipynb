{
 "cells": [
  {
   "cell_type": "markdown",
   "metadata": {},
   "source": [
    "### a. \n",
    "\n",
    "Say you roll a die, and are given an amount in dollars equal to the number on the die\n",
    "\n",
    "**What would you pay to play this game if you played it many times in a row?**"
   ]
  },
  {
   "cell_type": "markdown",
   "metadata": {},
   "source": [
    "### b. \n",
    "\n",
    "Now say when you roll the die, you're allowed to either take the money, or try again\n",
    "\n",
    "If you tried again, you have to take the second roll\n",
    "\n",
    "**What would you pay to play this version of the game?**"
   ]
  },
  {
   "cell_type": "markdown",
   "metadata": {},
   "source": [
    "### c.\n",
    "\n",
    "Now say you can take a second roll, and if you don't like it, you get another chance to roll again\n",
    "\n",
    "**What would you pay to play this final version?**"
   ]
  },
  {
   "cell_type": "markdown",
   "metadata": {},
   "source": [
    "_____\n",
    "\n",
    "### a.\n",
    "\n",
    "- When we roll a six-sided die, our expected roll is 3.5\n",
    "    - In the context of this game, that means we expect to win 3.50 on each roll\n",
    "        - If the price to play this game was less than 3.50, we'd expect to win money over the long term\n",
    "            - E.g. if the price was 3.00, we'd expect to win 50 cents each roll\n",
    "                - We could play 100 games, and we'd expect to walk away with 50 bucks\n",
    "        - Similarly, if the price to play was more than 3.50, we'd expect to lose money in the long run\n",
    "        \n",
    "- Therefore, **a fair price to pay to play this game is 3.50**"
   ]
  },
  {
   "cell_type": "markdown",
   "metadata": {},
   "source": [
    "_____\n",
    "\n",
    "### b. \n",
    "\n",
    "- Now that we know that the average roll will win 3.50, we know whether it's worth it to risk rolling again\n",
    "    - If we roll a 1, 2, or 3, then the expected value of our next roll is higher than our current roll\n",
    "        - So, in this case, we take the second roll\n",
    "    - If we roll a 4, 5, or 6, we expect our next roll to be lower\n",
    "        - In this case, we keep our first roll\n",
    "        \n",
    "- So now, we calculate the expected payoff for this game"
   ]
  },
  {
   "cell_type": "markdown",
   "metadata": {},
   "source": [
    "$$\n",
    "\\text{Expected Payoff} = (1/2)(3.5) + (1/6)(4) + (1/6)(5) + (1/6)(6) = 4.25\n",
    "$$"
   ]
  },
  {
   "cell_type": "markdown",
   "metadata": {},
   "source": [
    "- Therefore, **the fair price to pay to play this game is 4.25**"
   ]
  },
  {
   "cell_type": "markdown",
   "metadata": {},
   "source": [
    "- Let's confirm this result"
   ]
  },
  {
   "cell_type": "code",
   "execution_count": 3,
   "metadata": {},
   "outputs": [],
   "source": [
    "import numpy as np"
   ]
  },
  {
   "cell_type": "code",
   "execution_count": 4,
   "metadata": {},
   "outputs": [
    {
     "data": {
      "text/plain": [
       "4.25"
      ]
     },
     "execution_count": 4,
     "metadata": {},
     "output_type": "execute_result"
    }
   ],
   "source": [
    "list_results = []\n",
    "\n",
    "for roll_1 in [1,2,3,4,5,6]:\n",
    "    for roll_2 in [1,2,3,4,5,6]:\n",
    "        if roll_1 in [1,2,3]:\n",
    "            payoff = roll_2\n",
    "        else:\n",
    "            payoff = roll_1\n",
    "        list_results.append(payoff)\n",
    "        \n",
    "np.mean(list_results)"
   ]
  },
  {
   "cell_type": "markdown",
   "metadata": {},
   "source": [
    "_____\n",
    "\n",
    "### c. \n",
    "\n",
    "- This on requires a little bit of thinking\n",
    "\n",
    "*First Roll = 1, 2, or 3*\n",
    "\n",
    "- In this scenario, we'll always roll again, so the second and third rolls will follow the same logic as in part b\n",
    "\n",
    "*First Roll = 6*\n",
    "\n",
    "- In this scenario, we'll never roll again since we can't do any better\n",
    "\n",
    "*First Roll = 4*\n",
    "\n",
    "- This is where it gets tricky\n",
    "    - The probability that we get a 4, 5 or 6 on my next roll is 1/2\n",
    "        - So we have a 50/50 chance of staying the same or improving our roll\n",
    "            - We won't roll again in this scenario, because it follows the logic of part b\n",
    "        - If we get a worse roll (1, 2, or 3), we get another chance to improve with an expected roll of 3.5\n",
    "        \n",
    "- Therefore, if we get a 4 on my first roll and **don't roll again**, my expected payoff if 4\n",
    "    - If **we do roll again**, my expected payoff is equal to:\n",
    "    \n",
    "$$\n",
    "E(\\text{Payoff} | \\text{4 on first roll and we roll again}) = (4)(1/6) + (5)(1/6) + (6)(1/6) + (3.5)(1/2) = 4.25\n",
    "$$\n",
    "\n",
    "- So, it's worthwhile to roll again if we get a 4 on the first roll\n",
    "\n",
    "*First Roll = 5*\n",
    "\n",
    "- Our expected payoff if we roll again is the same as the one calculated above when the first roll is 4\n",
    "    - In this case, however, our expected payoff for **NOT** rolling again is 5 instead of 4\n",
    "    \n",
    "- So, it's worthwhile to **NOT** roll again if we get a 5 on the first roll"
   ]
  },
  {
   "cell_type": "markdown",
   "metadata": {},
   "source": [
    "- Instead of calculating this by hand, we can use a similar loop to the one above to calculate our expected payoff using this strategy"
   ]
  },
  {
   "cell_type": "code",
   "execution_count": 13,
   "metadata": {},
   "outputs": [
    {
     "data": {
      "text/plain": [
       "4.666666666666667"
      ]
     },
     "execution_count": 13,
     "metadata": {},
     "output_type": "execute_result"
    }
   ],
   "source": [
    "list_results = []\n",
    "\n",
    "for roll_1 in [1,2,3,4,5,6]:\n",
    "    for roll_2 in [1,2,3,4,5,6]:\n",
    "        for roll_3 in [1,2,3,4,5,6]:\n",
    "            if roll_1 in [1,2,3] and roll_2 in [1,2,3]:\n",
    "                payoff = roll_3\n",
    "            elif roll_1 in [1,2,3] and roll_2 in [4,5,6]:\n",
    "                payoff = roll_2\n",
    "            elif roll_1 in [5,6]:\n",
    "                payoff = roll_1\n",
    "            else:\n",
    "                if roll_2 in [1,2,3]:\n",
    "                    payoff = roll_3\n",
    "                else:\n",
    "                    payoff = roll_2\n",
    "            list_results.append(payoff)           \n",
    "        \n",
    "np.mean(list_results)"
   ]
  },
  {
   "cell_type": "markdown",
   "metadata": {},
   "source": [
    "- So, following this strategy, the **fair price to play is 4.67**"
   ]
  }
 ],
 "metadata": {
  "kernelspec": {
   "display_name": "Python 3",
   "language": "python",
   "name": "python3"
  },
  "language_info": {
   "codemirror_mode": {
    "name": "ipython",
    "version": 3
   },
   "file_extension": ".py",
   "mimetype": "text/x-python",
   "name": "python",
   "nbconvert_exporter": "python",
   "pygments_lexer": "ipython3",
   "version": "3.6.8"
  }
 },
 "nbformat": 4,
 "nbformat_minor": 2
}
