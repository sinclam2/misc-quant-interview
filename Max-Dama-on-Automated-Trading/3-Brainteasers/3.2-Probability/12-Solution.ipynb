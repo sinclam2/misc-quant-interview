{
 "cells": [
  {
   "cell_type": "markdown",
   "metadata": {},
   "source": [
    "- You have 5 quarters on the table in front of you\n",
    "    - 4 of the quarters are fair\n",
    "    - 1 of the quarters has two heads\n",
    "    \n",
    "- You pick a random coin, flip it five times, and get five heads in a row\n",
    "    - **What is the probability that you picked up the double sided coin?**"
   ]
  },
  {
   "cell_type": "markdown",
   "metadata": {},
   "source": [
    "______\n",
    "\n",
    "- Classic Bayes Theorem question"
   ]
  },
  {
   "cell_type": "markdown",
   "metadata": {},
   "source": [
    "$$\n",
    "P(\\text{Unfair Coin} | HHHHH) = \\frac{P(\\text{Unfair Coin}\\cap HHHHH)}{P(HHHHH)}\n",
    "$$"
   ]
  },
  {
   "cell_type": "markdown",
   "metadata": {},
   "source": [
    "- The numerator is easy since we can't get anything other than heads with the unfair coin so:\n",
    "\n",
    "$$\n",
    "P(\\text{Unfair Coin}\\cap HHHHH) = P(\\text{Unfair Coin})\\cdot P(HHHHH\\text{ | Unfair Coin}) = (1/5)\\cdot(1) = 1/5\n",
    "$$"
   ]
  },
  {
   "cell_type": "markdown",
   "metadata": {},
   "source": [
    "- The denominator takes a bit of calculation:\n",
    "\n",
    "$$\n",
    "P(HHHHH) = P(\\text{Unfair Coin})\\cdot P(HHHHH | \\text{Unfair Coin}) + P(\\text{Fair Coin})\\cdot P(HHHHH | \\text{Fair Coin})\n",
    "$$"
   ]
  },
  {
   "cell_type": "markdown",
   "metadata": {},
   "source": [
    "$$\n",
    "= (1/5)\\cdot(1) + (4/5)\\cdot(1/2)^{5} = 1/5 + 1/40 = 9/40\n",
    "$$"
   ]
  },
  {
   "cell_type": "markdown",
   "metadata": {},
   "source": [
    "- Putting it all together:\n",
    "\n",
    "$$\n",
    "P(\\text{Unfair Coin} | HHHHH)  = \\frac{1/5}{9/40} = 8/9\n",
    "$$"
   ]
  },
  {
   "cell_type": "markdown",
   "metadata": {},
   "source": [
    "_____\n",
    "\n",
    "- Let's confirm this result by simulating the coin flips"
   ]
  },
  {
   "cell_type": "code",
   "execution_count": 4,
   "metadata": {},
   "outputs": [],
   "source": [
    "import pandas as pd\n",
    "import numpy as np"
   ]
  },
  {
   "cell_type": "code",
   "execution_count": 29,
   "metadata": {},
   "outputs": [],
   "source": [
    "n_trials = 100000000\n",
    "\n",
    "array_flips_unfair = np.repeat(np.array([[1,1,1,1,1]]), n_trials, axis=0)\n",
    "array_flips_fair = np.random.randint(2, size=(n_trials, 5))\n",
    "\n",
    "array_flag = np.random.binomial(1, 1/5, size=(n_trials, 1))\n",
    "\n",
    "array_flips = (array_flag * array_flips_unfair) + ((1-array_flag) * array_flips_fair)\n",
    "\n",
    "df = pd.DataFrame(array_flips, columns=['Flip {}'.format(i) for i in [1,2,3,4,5]])\n",
    "\n",
    "df['Unfair Coin Flag'] = array_flag"
   ]
  },
  {
   "cell_type": "code",
   "execution_count": 30,
   "metadata": {},
   "outputs": [],
   "source": [
    "df = df[df.iloc[:, :5].sum(axis=1)==5]"
   ]
  },
  {
   "cell_type": "code",
   "execution_count": 31,
   "metadata": {},
   "outputs": [
    {
     "data": {
      "text/plain": [
       "0.8888958135816597"
      ]
     },
     "execution_count": 31,
     "metadata": {},
     "output_type": "execute_result"
    }
   ],
   "source": [
    "df['Unfair Coin Flag'].mean()"
   ]
  },
  {
   "cell_type": "markdown",
   "metadata": {},
   "source": [
    "- Eyyyyyyy"
   ]
  }
 ],
 "metadata": {
  "kernelspec": {
   "display_name": "Python 3",
   "language": "python",
   "name": "python3"
  },
  "language_info": {
   "codemirror_mode": {
    "name": "ipython",
    "version": 3
   },
   "file_extension": ".py",
   "mimetype": "text/x-python",
   "name": "python",
   "nbconvert_exporter": "python",
   "pygments_lexer": "ipython3",
   "version": "3.6.8"
  }
 },
 "nbformat": 4,
 "nbformat_minor": 2
}
