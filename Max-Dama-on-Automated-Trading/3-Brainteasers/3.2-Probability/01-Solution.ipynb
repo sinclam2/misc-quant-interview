{
 "cells": [
  {
   "cell_type": "markdown",
   "metadata": {},
   "source": [
    "- What is the probability of getting exactly 500 heads out of 1000 coin flips?\n",
    "    - Approximate it to within 5% of the true value without a calculator"
   ]
  },
  {
   "cell_type": "markdown",
   "metadata": {},
   "source": [
    "____"
   ]
  },
  {
   "cell_type": "markdown",
   "metadata": {},
   "source": [
    "- We know right away that the answer is:\n",
    "\n",
    "$$\n",
    "\\binom{1000}{500}(1/2)^{1000}\n",
    "$$"
   ]
  },
  {
   "cell_type": "markdown",
   "metadata": {},
   "source": [
    "- The tricky part is approximating this probability"
   ]
  },
  {
   "cell_type": "markdown",
   "metadata": {},
   "source": [
    "$$\n",
    "\\binom{1000}{500} = \\frac{1000!}{500!\\cdot500!}\n",
    "$$"
   ]
  },
  {
   "cell_type": "markdown",
   "metadata": {},
   "source": [
    "- Stirling's formula tells us:\n",
    "\n",
    "$$\n",
    "n! \\approx \\sqrt{2\\pi n}\\left (\\frac{n}{e} \\right )^{n}\n",
    "$$"
   ]
  },
  {
   "cell_type": "markdown",
   "metadata": {},
   "source": [
    "- So:\n",
    "\n",
    "$$\n",
    "1000! \\approx \\sqrt{2\\pi 1000}\\left (\\frac{1000}{e} \\right )^{1000}\n",
    "$$"
   ]
  },
  {
   "cell_type": "markdown",
   "metadata": {},
   "source": [
    "- And:\n",
    "\n",
    "$$\n",
    "500! \\approx \\sqrt{2\\pi 500}\\left (\\frac{500}{e} \\right )^{500}\n",
    "$$"
   ]
  },
  {
   "cell_type": "markdown",
   "metadata": {},
   "source": [
    "- Putting it all together:\n",
    "\n",
    "$$\n",
    "\\binom{1000}{500} \\approx \\frac{\\sqrt{2\\pi 1000}\\left (\\frac{1000}{e} \\right )^{1000}}{\\left (\\sqrt{2\\pi 500}\\left (\\frac{500}{e} \\right )^{500} \\right )^{2}}\n",
    "$$"
   ]
  },
  {
   "cell_type": "markdown",
   "metadata": {},
   "source": [
    "- Let's split this up to simplify it:\n",
    "\n",
    "$$\n",
    "\\frac{\\sqrt{2\\pi1000}}{(\\sqrt{2\\pi500})^{2}}=\\frac{\\sqrt{2}\\sqrt{500}}{\\sqrt{2}\\sqrt{\\pi}\\sqrt{500}\\sqrt{500}} = \\frac{1}{\\sqrt{500\\pi}}\n",
    "$$"
   ]
  },
  {
   "cell_type": "markdown",
   "metadata": {},
   "source": [
    "- Also:\n",
    "\n",
    "$$\n",
    "\\frac{(1000/e)^{1000}}{(500/e)^{1000}} = (1000/500)^{1000} = 2^{1000}\n",
    "$$"
   ]
  },
  {
   "cell_type": "markdown",
   "metadata": {},
   "source": [
    "- Putting these together:\n",
    "\n",
    "$$\n",
    "\\binom{1000}{500} \\approx \\frac{2^{1000}}{\\sqrt{500\\pi}}\n",
    "$$"
   ]
  },
  {
   "cell_type": "markdown",
   "metadata": {},
   "source": [
    "- Cobining this with $(1/2)^{1000}$\n",
    "\n",
    "$$\n",
    "\\binom{1000}{500}(1/2)^{1000} \\approx \\frac{2^{1000}}{\\sqrt{500\\pi}}\\frac{1}{2^{1000}} = \\frac{1}{\\sqrt{500\\pi}}\n",
    "$$"
   ]
  },
  {
   "cell_type": "markdown",
   "metadata": {},
   "source": [
    "- $\\pi$ is pretty close to 3, so $500\\pi$ is pretty close to $500\\cdot3 = 1500$\n",
    "\n",
    "- $\\sqrt{1500}$ is tricky to calculate in our heads, but $\\sqrt{1500}$ is pretty close to $\\sqrt{1600} = 40$\n",
    "\n",
    "- Putting it all together:\n",
    "\n",
    "$$\n",
    "\\binom{1000}{500}(1/2)^{1000} \\approx \\frac{1}{40} = 0.025\n",
    "$$"
   ]
  },
  {
   "cell_type": "markdown",
   "metadata": {},
   "source": [
    "- So we'll guess that the probability is close to 0.025"
   ]
  },
  {
   "cell_type": "markdown",
   "metadata": {},
   "source": [
    "- When we check this value, we get a probability of:"
   ]
  },
  {
   "cell_type": "code",
   "execution_count": 1,
   "metadata": {},
   "outputs": [],
   "source": [
    "from scipy.stats import binom"
   ]
  },
  {
   "cell_type": "code",
   "execution_count": 2,
   "metadata": {},
   "outputs": [
    {
     "data": {
      "text/plain": [
       "0.025225018178380496"
      ]
     },
     "execution_count": 2,
     "metadata": {},
     "output_type": "execute_result"
    }
   ],
   "source": [
    "binom.pmf(500, 1000, 1/2)"
   ]
  },
  {
   "cell_type": "markdown",
   "metadata": {},
   "source": [
    "- Pretty close!"
   ]
  }
 ],
 "metadata": {
  "kernelspec": {
   "display_name": "Python 3",
   "language": "python",
   "name": "python3"
  },
  "language_info": {
   "codemirror_mode": {
    "name": "ipython",
    "version": 3
   },
   "file_extension": ".py",
   "mimetype": "text/x-python",
   "name": "python",
   "nbconvert_exporter": "python",
   "pygments_lexer": "ipython3",
   "version": "3.6.5"
  }
 },
 "nbformat": 4,
 "nbformat_minor": 2
}
