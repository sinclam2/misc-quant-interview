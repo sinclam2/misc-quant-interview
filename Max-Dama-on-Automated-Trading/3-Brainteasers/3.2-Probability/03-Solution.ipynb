{
 "cells": [
  {
   "cell_type": "markdown",
   "metadata": {},
   "source": [
    "- I roll a 6 sided die\n",
    "- If I get a 1 I win, if not you roll\n",
    "- If you get a 6 you win, otherwise I go again\n",
    "- *What are my chances of winning and what are yours?*"
   ]
  },
  {
   "cell_type": "markdown",
   "metadata": {},
   "source": [
    "____\n",
    "\n",
    "- To simplify the *I* and *you*, let's call the first player to roll Player 1, and the other Player 2\n",
    "    - Let's first consider the probability for Player 1"
   ]
  },
  {
   "cell_type": "markdown",
   "metadata": {},
   "source": [
    "**Player 1**\n",
    "\n",
    "- Let's denote the probability that Player 1 wins as $p$\n",
    "\n",
    "- Then, on the first roll, the probability that he wins right away is 1/6\n",
    "\n",
    "- If he doesn't win right away (probability 5/6), then there is a 5/6 chance that Player 2 doesn't win on his first roll and both players essentially start all over\n",
    "    - Then, the probability of Player 1 winning given that neither player won on their first roll is also equal to $p$\n",
    "\n",
    "- Therefore, we can express $p$ as:\n",
    "\n",
    "$$\n",
    "p = (1/6) + (5/6)(5/6)p\n",
    "$$"
   ]
  },
  {
   "cell_type": "markdown",
   "metadata": {},
   "source": [
    "$$\n",
    "\\implies p = (1/6) + (25/36)p \\implies (11/36)p = 1/6 \\implies 11p = 6 \\implies p = 6/11\n",
    "$$"
   ]
  },
  {
   "cell_type": "markdown",
   "metadata": {},
   "source": [
    "**Player 2**\n",
    "\n",
    "- Since Player 1 has a 6/11 chance of winning, we expect Player 2 to have a 1-6/11 = 5/11 chance\n",
    "    - Let's try to derive this value another way to tie out"
   ]
  },
  {
   "cell_type": "markdown",
   "metadata": {},
   "source": [
    "- Player 2 has a probability of $p^{*}$ of winning, and using the same logic as above:\n",
    "\n",
    "$$\n",
    "p^{*} = (5/6)(1/6) + (5/6)(5/6)p^{*} = (5/36) + (25/36)p^{*}\n",
    "$$"
   ]
  },
  {
   "cell_type": "markdown",
   "metadata": {},
   "source": [
    "$$\n",
    "\\implies \\frac{11}{36}p^{*} = \\frac{5}{36} \\implies p^{*} = 5/11\n",
    "$$"
   ]
  },
  {
   "cell_type": "markdown",
   "metadata": {},
   "source": [
    "- Eyy\n",
    "    - Seems to tie out\n",
    "    \n",
    "- Let's simulate this game to confirm out probabilities"
   ]
  },
  {
   "cell_type": "code",
   "execution_count": 14,
   "metadata": {},
   "outputs": [],
   "source": [
    "import numpy as np"
   ]
  },
  {
   "cell_type": "code",
   "execution_count": 15,
   "metadata": {},
   "outputs": [],
   "source": [
    "def sim():\n",
    "    while True:\n",
    "        roll_1, roll_2 = np.random.randint(1, 7, size=2)\n",
    "        if roll_1 == 1:\n",
    "            return 1\n",
    "        if roll_2 == 6:\n",
    "            return 0"
   ]
  },
  {
   "cell_type": "code",
   "execution_count": 16,
   "metadata": {},
   "outputs": [
    {
     "data": {
      "text/plain": [
       "0.545237"
      ]
     },
     "execution_count": 16,
     "metadata": {},
     "output_type": "execute_result"
    }
   ],
   "source": [
    "N_TRIALS = 1000000\n",
    "total = 0\n",
    "\n",
    "for _ in range(N_TRIALS):\n",
    "    total += sim()\n",
    "    \n",
    "total / N_TRIALS"
   ]
  },
  {
   "cell_type": "code",
   "execution_count": 17,
   "metadata": {},
   "outputs": [
    {
     "data": {
      "text/plain": [
       "0.5454545454545454"
      ]
     },
     "execution_count": 17,
     "metadata": {},
     "output_type": "execute_result"
    }
   ],
   "source": [
    "6 / 11"
   ]
  },
  {
   "cell_type": "markdown",
   "metadata": {},
   "source": [
    "- Bang on"
   ]
  }
 ],
 "metadata": {
  "kernelspec": {
   "display_name": "Python 3",
   "language": "python",
   "name": "python3"
  },
  "language_info": {
   "codemirror_mode": {
    "name": "ipython",
    "version": 3
   },
   "file_extension": ".py",
   "mimetype": "text/x-python",
   "name": "python",
   "nbconvert_exporter": "python",
   "pygments_lexer": "ipython3",
   "version": "3.6.5"
  }
 },
 "nbformat": 4,
 "nbformat_minor": 2
}
